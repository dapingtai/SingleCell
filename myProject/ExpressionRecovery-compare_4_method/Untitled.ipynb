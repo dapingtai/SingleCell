{
 "cells": [
  {
   "cell_type": "code",
   "execution_count": 1,
   "metadata": {},
   "outputs": [],
   "source": [
    "cc <- readRDS(file=\"/mnt/isilonX200/scRNA/Project_1/Result/CLS1.monocle.Rds\")"
   ]
  },
  {
   "cell_type": "code",
   "execution_count": 3,
   "metadata": {},
   "outputs": [
    {
     "data": {
      "text/plain": [
       "CellDataSet (storageMode: environment)\n",
       "assayData: 18690 features, 11997 samples \n",
       "  element names: exprs \n",
       "protocolData: none\n",
       "phenoData\n",
       "  sampleNames: AAACCTGCAGCTGTTA-1-CLS1-P AAACCTGGTACCAGTT-1-CLS1-P ...\n",
       "    TTTGTCAGTTAAGACA-1-CLS1-D14 (11997 total)\n",
       "  varLabels: orig.ident nCount_RNA ... State (28 total)\n",
       "  varMetadata: labelDescription\n",
       "featureData\n",
       "  featureNames: AL627309.1 AL669831.5 ... AC240274.1 (18690 total)\n",
       "  fvarLabels: gene_short_name num_cells_expressed use_for_ordering\n",
       "  fvarMetadata: labelDescription\n",
       "experimentData: use 'experimentData(object)'\n",
       "Annotation:  "
      ]
     },
     "metadata": {},
     "output_type": "display_data"
    }
   ],
   "source": [
    "cc"
   ]
  }
 ],
 "metadata": {
  "kernelspec": {
   "display_name": "R",
   "language": "R",
   "name": "ir"
  },
  "language_info": {
   "codemirror_mode": "r",
   "file_extension": ".r",
   "mimetype": "text/x-r-source",
   "name": "R",
   "pygments_lexer": "r",
   "version": "3.6.0"
  }
 },
 "nbformat": 4,
 "nbformat_minor": 4
}
