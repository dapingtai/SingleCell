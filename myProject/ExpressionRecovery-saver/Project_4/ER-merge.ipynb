{
 "cells": [
  {
   "cell_type": "code",
   "execution_count": 1,
   "metadata": {
    "collapsed": true,
    "jupyter": {
     "outputs_hidden": true
    }
   },
   "outputs": [
    {
     "name": "stderr",
     "output_type": "stream",
     "text": [
      "Loading required package: SingleCellExperiment\n",
      "\n",
      "Loading required package: SummarizedExperiment\n",
      "\n",
      "Loading required package: GenomicRanges\n",
      "\n",
      "Loading required package: stats4\n",
      "\n",
      "Loading required package: BiocGenerics\n",
      "\n",
      "Loading required package: parallel\n",
      "\n",
      "\n",
      "Attaching package: 'BiocGenerics'\n",
      "\n",
      "\n",
      "The following objects are masked from 'package:parallel':\n",
      "\n",
      "    clusterApply, clusterApplyLB, clusterCall, clusterEvalQ,\n",
      "    clusterExport, clusterMap, parApply, parCapply, parLapply,\n",
      "    parLapplyLB, parRapply, parSapply, parSapplyLB\n",
      "\n",
      "\n",
      "The following objects are masked from 'package:stats':\n",
      "\n",
      "    IQR, mad, sd, var, xtabs\n",
      "\n",
      "\n",
      "The following objects are masked from 'package:base':\n",
      "\n",
      "    Filter, Find, Map, Position, Reduce, anyDuplicated, append,\n",
      "    as.data.frame, basename, cbind, colnames, dirname, do.call,\n",
      "    duplicated, eval, evalq, get, grep, grepl, intersect, is.unsorted,\n",
      "    lapply, mapply, match, mget, order, paste, pmax, pmax.int, pmin,\n",
      "    pmin.int, rank, rbind, rownames, sapply, setdiff, sort, table,\n",
      "    tapply, union, unique, unsplit, which, which.max, which.min\n",
      "\n",
      "\n",
      "Loading required package: S4Vectors\n",
      "\n",
      "\n",
      "Attaching package: 'S4Vectors'\n",
      "\n",
      "\n",
      "The following object is masked from 'package:base':\n",
      "\n",
      "    expand.grid\n",
      "\n",
      "\n",
      "Loading required package: IRanges\n",
      "\n",
      "Loading required package: GenomeInfoDb\n",
      "\n",
      "Loading required package: Biobase\n",
      "\n",
      "Welcome to Bioconductor\n",
      "\n",
      "    Vignettes contain introductory material; view with\n",
      "    'browseVignettes()'. To cite Bioconductor, see\n",
      "    'citation(\"Biobase\")', and for packages 'citation(\"pkgname\")'.\n",
      "\n",
      "\n",
      "Loading required package: DelayedArray\n",
      "\n",
      "Loading required package: matrixStats\n",
      "\n",
      "\n",
      "Attaching package: 'matrixStats'\n",
      "\n",
      "\n",
      "The following objects are masked from 'package:Biobase':\n",
      "\n",
      "    anyMissing, rowMedians\n",
      "\n",
      "\n",
      "Loading required package: BiocParallel\n",
      "\n",
      "\n",
      "Attaching package: 'DelayedArray'\n",
      "\n",
      "\n",
      "The following objects are masked from 'package:matrixStats':\n",
      "\n",
      "    colMaxs, colMins, colRanges, rowMaxs, rowMins, rowRanges\n",
      "\n",
      "\n",
      "The following objects are masked from 'package:base':\n",
      "\n",
      "    aperm, apply, rowsum\n",
      "\n",
      "\n"
     ]
    },
    {
     "ename": "ERROR",
     "evalue": "Error in library(RcppCNPy): there is no package called 'RcppCNPy'\n",
     "output_type": "error",
     "traceback": [
      "Error in library(RcppCNPy): there is no package called 'RcppCNPy'\nTraceback:\n",
      "1. library(RcppCNPy)"
     ]
    }
   ],
   "source": [
    "rm(list=ls())\n",
    "library(MAST)\n",
    "library(RcppCNPy)\n",
    "library(scran)\n",
    "library(scds)\n",
    "library(sva)\n",
    "library(scDblFinder)\n",
    "library(Seurat)\n",
    "library(Matrix)\n",
    "library(cowplot) \n",
    "library(gridExtra)\n",
    "library(dplyr)\n",
    "library(clustree)\n",
    "library(DT)\n",
    "library(pheatmap)\n",
    "library(corrplot)\n",
    "library(RColorBrewer)\n",
    "library(gplots)\n",
    "library(pracma)\n",
    "library(mclust, quietly=TRUE)\n",
    "options(mc.cores = 64)"
   ]
  },
  {
   "cell_type": "markdown",
   "metadata": {},
   "source": [
    "# Read Project4 Saver"
   ]
  },
  {
   "cell_type": "code",
   "execution_count": 2,
   "metadata": {},
   "outputs": [
    {
     "data": {
      "text/html": [
       "<style>\n",
       ".list-inline {list-style: none; margin:0; padding: 0}\n",
       ".list-inline>li {display: inline-block}\n",
       ".list-inline>li:not(:last-child)::after {content: \"\\00b7\"; padding: 0 .5ex}\n",
       "</style>\n",
       "<ol class=list-inline><li>'CAF517.saver.Rds'</li><li>'CC2D.saver.Rds'</li><li>'CC3D.saver.Rds'</li><li>'CLS1P.saver.Rds'</li><li>'MM.saver.Rds'</li><li>'PDX.saver.Rds'</li></ol>\n"
      ],
      "text/latex": [
       "\\begin{enumerate*}\n",
       "\\item 'CAF517.saver.Rds'\n",
       "\\item 'CC2D.saver.Rds'\n",
       "\\item 'CC3D.saver.Rds'\n",
       "\\item 'CLS1P.saver.Rds'\n",
       "\\item 'MM.saver.Rds'\n",
       "\\item 'PDX.saver.Rds'\n",
       "\\end{enumerate*}\n"
      ],
      "text/markdown": [
       "1. 'CAF517.saver.Rds'\n",
       "2. 'CC2D.saver.Rds'\n",
       "3. 'CC3D.saver.Rds'\n",
       "4. 'CLS1P.saver.Rds'\n",
       "5. 'MM.saver.Rds'\n",
       "6. 'PDX.saver.Rds'\n",
       "\n",
       "\n"
      ],
      "text/plain": [
       "[1] \"CAF517.saver.Rds\" \"CC2D.saver.Rds\"   \"CC3D.saver.Rds\"   \"CLS1P.saver.Rds\" \n",
       "[5] \"MM.saver.Rds\"     \"PDX.saver.Rds\"   "
      ]
     },
     "metadata": {},
     "output_type": "display_data"
    }
   ],
   "source": [
    "datalist <- list.files(\"/mnt/isilonX200/scRNA/Project_4/saver\",\"saver.Rds\")\n",
    "datalist"
   ]
  },
  {
   "cell_type": "code",
   "execution_count": 3,
   "metadata": {},
   "outputs": [],
   "source": [
    "saver.list <- lapply(datalist, function(v){readRDS(paste0(\"/mnt/isilonX200/scRNA/Project_4/saver/\",v))})\n",
    "names(saver.list) <- sub(\".saver.Rds\", \"\", datalist)"
   ]
  },
  {
   "cell_type": "code",
   "execution_count": 36,
   "metadata": {},
   "outputs": [
    {
     "name": "stdout",
     "output_type": "stream",
     "text": [
      "[1] \".....Now is mergeCAF517\"\n",
      "[1] \".....Now is mergeCC2D\"\n",
      "[1] \".....Now is mergeCC3D\"\n",
      "[1] \".....Now is mergeCLS1P\"\n",
      "[1] \".....Now is mergeMM\"\n"
     ]
    },
    {
     "ename": "ERROR",
     "evalue": "Error in rbind(deparse.level, ...): numbers of columns of arguments do not match\n",
     "output_type": "error",
     "traceback": [
      "Error in rbind(deparse.level, ...): numbers of columns of arguments do not match\nTraceback:\n",
      "1. rbind(saver.data, saverdata2)",
      "2. standardGeneric(\"rbind\")",
      "3. eval(mc, env)",
      "4. eval(mc, env)",
      "5. eval(mc, env)",
      "6. rbind(...)",
      "7. rbind(deparse.level, ...)",
      "8. stop(\"numbers of columns of arguments do not match\")"
     ]
    }
   ],
   "source": [
    "count = 1\n",
    "for (i in names(saver.list)) {\n",
    "    saver.estimate <- saver.list[[count]]$estimate\n",
    "    if (count == 1){\n",
    "        print(paste0(\".....Now is merge\", i))\n",
    "        saverdata1 <- data.frame(t(saver.estimate))\n",
    "        saverdata1$condition <- rep(i, length(rownames(saverdata1)))\n",
    "    }else if(count==2){\n",
    "        print(paste0(\".....Now is merge\", i))\n",
    "        saverdata2 <- data.frame(t(saver.estimate))\n",
    "        saverdata2$condition <- rep(i, length(rownames(saverdata2)))\n",
    "        saver.data <- rbind(saverdata1, saverdata2)\n",
    "    }else{\n",
    "        print(paste0(\".....Now is merge\", i))\n",
    "        saverdata2 <- data.frame(t(saver.estimate))\n",
    "        saverdata2$condition <- rep(i, length(rownames(saverdata2)))\n",
    "        saver.data <- rbind(saver.data, saverdata2)\n",
    "    } \n",
    "    count<-count+1\n",
    "}"
   ]
  },
  {
   "cell_type": "code",
   "execution_count": 38,
   "metadata": {},
   "outputs": [
    {
     "name": "stdout",
     "output_type": "stream",
     "text": [
      " num [1:33538, 1:2412] 0 0 0 0.004 0.001 0 0 0 0 0 ...\n",
      " - attr(*, \"dimnames\")=List of 2\n",
      "  ..$ : chr [1:33538] \"MIR1302-2HG\" \"FAM138A\" \"OR4F5\" \"AL627309.1\" ...\n",
      "  ..$ : chr [1:2412] \"AAACCTGTCATACGGT-PDX\" \"AAACCTGTCCGTCATC-PDX\" \"AAACGGGCAATGGACG-PDX\" \"AAACGGGGTGCAACTT-PDX\" ...\n"
     ]
    }
   ],
   "source": [
    "str(saver.list[[6]]$estimate)"
   ]
  },
  {
   "cell_type": "code",
   "execution_count": null,
   "metadata": {},
   "outputs": [],
   "source": [
    "# Genelist <- c('S100A8', 'S100A9', 'MMP1', 'COL1A1', 'COL1A2', 'CXCL8', 'CD55')"
   ]
  }
 ],
 "metadata": {
  "kernelspec": {
   "display_name": "R",
   "language": "R",
   "name": "ir"
  },
  "language_info": {
   "codemirror_mode": "r",
   "file_extension": ".r",
   "mimetype": "text/x-r-source",
   "name": "R",
   "pygments_lexer": "r",
   "version": "3.6.0"
  }
 },
 "nbformat": 4,
 "nbformat_minor": 4
}
