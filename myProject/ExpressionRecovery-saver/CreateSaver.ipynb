{
 "cells": [
  {
   "cell_type": "code",
   "execution_count": 1,
   "metadata": {
    "collapsed": true,
    "jupyter": {
     "outputs_hidden": true
    }
   },
   "outputs": [
    {
     "name": "stderr",
     "output_type": "stream",
     "text": [
      "\n",
      "Attaching package: 'dplyr'\n",
      "\n",
      "\n",
      "The following objects are masked from 'package:stats':\n",
      "\n",
      "    filter, lag\n",
      "\n",
      "\n",
      "The following objects are masked from 'package:base':\n",
      "\n",
      "    intersect, setdiff, setequal, union\n",
      "\n",
      "\n",
      "\n",
      "********************************************************\n",
      "\n",
      "Note: As of version 1.0.0, cowplot does not change the\n",
      "\n",
      "  default ggplot2 theme anymore. To recover the previous\n",
      "\n",
      "  behavior, execute:\n",
      "  theme_set(theme_cowplot())\n",
      "\n",
      "********************************************************\n",
      "\n",
      "\n",
      "\n",
      "Attaching package: 'Matrix'\n",
      "\n",
      "\n",
      "The following objects are masked from 'package:tidyr':\n",
      "\n",
      "    expand, pack, unpack\n",
      "\n",
      "\n",
      "\n",
      "Attaching package: 'gridExtra'\n",
      "\n",
      "\n",
      "The following object is masked from 'package:dplyr':\n",
      "\n",
      "    combine\n",
      "\n",
      "\n",
      "Loading required package: ggraph\n",
      "\n",
      "Loading required package: ggplot2\n",
      "\n",
      "\n",
      "Attaching package: 'DT'\n",
      "\n",
      "\n",
      "The following object is masked from 'package:Seurat':\n",
      "\n",
      "    JS\n",
      "\n",
      "\n",
      "\n",
      "Attaching package: 'pracma'\n",
      "\n",
      "\n",
      "The following objects are masked from 'package:Matrix':\n",
      "\n",
      "    expm, lu, tril, triu\n",
      "\n",
      "\n"
     ]
    }
   ],
   "source": [
    "rm(list=ls())\n",
    "library(SAVER)\n",
    "library(Seurat)\n",
    "library(dplyr)\n",
    "library(tidyr)\n",
    "library(cowplot)\n",
    "library(Matrix)\n",
    "library(cowplot) \n",
    "library(gridExtra)\n",
    "library(dplyr)\n",
    "library(clustree)\n",
    "library(DT)\n",
    "library(pheatmap)\n",
    "library(RColorBrewer)\n",
    "library(ggplot2)\n",
    "library(pracma)\n",
    "options(mc.cores = 64)"
   ]
  },
  {
   "cell_type": "markdown",
   "metadata": {},
   "source": [
    "## Project 1"
   ]
  },
  {
   "cell_type": "code",
   "execution_count": 11,
   "metadata": {},
   "outputs": [
    {
     "data": {
      "text/html": [
       "<style>\n",
       ".list-inline {list-style: none; margin:0; padding: 0}\n",
       ".list-inline>li {display: inline-block}\n",
       ".list-inline>li:not(:last-child)::after {content: \"\\00b7\"; padding: 0 .5ex}\n",
       "</style>\n",
       "<ol class=list-inline><li>'cl10d14.qc.Rds'</li><li>'cl10d4.qc.Rds'</li><li>'cl10d7.qc.Rds'</li><li>'cl10p4.qc.Rds'</li><li>'cl15d14.qc.Rds'</li><li>'cl15d4.qc.Rds'</li><li>'cl15d7.qc.Rds'</li><li>'cl15p4.qc.Rds'</li><li>'cls1d14.qc.Rds'</li><li>'cls1d4.qc.Rds'</li><li>'cls1d7.qc.Rds'</li><li>'cls1p4.qc.Rds'</li></ol>\n"
      ],
      "text/latex": [
       "\\begin{enumerate*}\n",
       "\\item 'cl10d14.qc.Rds'\n",
       "\\item 'cl10d4.qc.Rds'\n",
       "\\item 'cl10d7.qc.Rds'\n",
       "\\item 'cl10p4.qc.Rds'\n",
       "\\item 'cl15d14.qc.Rds'\n",
       "\\item 'cl15d4.qc.Rds'\n",
       "\\item 'cl15d7.qc.Rds'\n",
       "\\item 'cl15p4.qc.Rds'\n",
       "\\item 'cls1d14.qc.Rds'\n",
       "\\item 'cls1d4.qc.Rds'\n",
       "\\item 'cls1d7.qc.Rds'\n",
       "\\item 'cls1p4.qc.Rds'\n",
       "\\end{enumerate*}\n"
      ],
      "text/markdown": [
       "1. 'cl10d14.qc.Rds'\n",
       "2. 'cl10d4.qc.Rds'\n",
       "3. 'cl10d7.qc.Rds'\n",
       "4. 'cl10p4.qc.Rds'\n",
       "5. 'cl15d14.qc.Rds'\n",
       "6. 'cl15d4.qc.Rds'\n",
       "7. 'cl15d7.qc.Rds'\n",
       "8. 'cl15p4.qc.Rds'\n",
       "9. 'cls1d14.qc.Rds'\n",
       "10. 'cls1d4.qc.Rds'\n",
       "11. 'cls1d7.qc.Rds'\n",
       "12. 'cls1p4.qc.Rds'\n",
       "\n",
       "\n"
      ],
      "text/plain": [
       " [1] \"cl10d14.qc.Rds\" \"cl10d4.qc.Rds\"  \"cl10d7.qc.Rds\"  \"cl10p4.qc.Rds\" \n",
       " [5] \"cl15d14.qc.Rds\" \"cl15d4.qc.Rds\"  \"cl15d7.qc.Rds\"  \"cl15p4.qc.Rds\" \n",
       " [9] \"cls1d14.qc.Rds\" \"cls1d4.qc.Rds\"  \"cls1d7.qc.Rds\"  \"cls1p4.qc.Rds\" "
      ]
     },
     "metadata": {},
     "output_type": "display_data"
    }
   ],
   "source": [
    "datalist <- list.files('/mnt/isilonX200/scRNA/Project_1/hho/Rdata', '.qc.Rds')\n",
    "datalist\n",
    "sc.list <- lapply(datalist, function(v){readRDS(paste0('/mnt/isilonX200/scRNA/Project_1/hho/Rdata/', v))})\n",
    "names(sc.list) <- toupper(sub('.qc.Rds', '', datalist))"
   ]
  },
  {
   "cell_type": "code",
   "execution_count": 13,
   "metadata": {
    "collapsed": true,
    "jupyter": {
     "outputs_hidden": true
    }
   },
   "outputs": [
    {
     "name": "stderr",
     "output_type": "stream",
     "text": [
      "33538 genes, 3952 cells\n",
      "\n",
      "Running SAVER with 64 worker(s)\n",
      "\n",
      "Calculating predictions for 22440 genes using 10130 genes and 3952 cells...\n",
      "\n",
      "Start time: 2020-05-06 03:11:04\n",
      "\n",
      "Estimating finish time...\n",
      "\n",
      "Finished 64/33538 genes. Approximate finish time: 2020-05-06 03:14:56\n",
      "\n",
      "Calculating max cor cutoff...\n",
      "\n",
      "Finished 100/33538 genes. Approximate finish time: 2020-05-06 03:20:27\n",
      "\n",
      "Calculating lambda coefficients...\n",
      "\n",
      "Finished 344/33538 genes. Approximate finish time: 2020-05-06 03:25:47\n",
      "\n",
      "Predicting remaining genes...\n",
      "\n",
      "Finished 5868/33538 genes. Approximate finish time: 2020-05-06 03:47:07\n",
      "\n",
      "Predicting remaining genes...\n",
      "\n",
      "Finished 22440/33538 genes. Approximate finish time: 2020-05-06 03:44:34\n",
      "\n",
      "Estimating remaining 11098 genes.\n",
      "\n",
      "Done!\n",
      "\n",
      "Finish time: 2020-05-06 03:45:32\n",
      "\n",
      "Total time: 34.46544 mins\n",
      "\n"
     ]
    },
    {
     "name": "stdout",
     "output_type": "stream",
     "text": [
      "[1] \"1: CL10D14 is running finish\"\n"
     ]
    },
    {
     "name": "stderr",
     "output_type": "stream",
     "text": [
      "33538 genes, 3595 cells\n",
      "\n",
      "Running SAVER with 64 worker(s)\n",
      "\n",
      "Calculating predictions for 23190 genes using 10731 genes and 3595 cells...\n",
      "\n",
      "Start time: 2020-05-06 03:49:35\n",
      "\n",
      "Estimating finish time...\n",
      "\n",
      "Finished 64/33538 genes. Approximate finish time: 2020-05-06 03:53:12\n",
      "\n",
      "Calculating max cor cutoff...\n",
      "\n",
      "Finished 100/33538 genes. Approximate finish time: 2020-05-06 03:57:54\n",
      "\n",
      "Calculating lambda coefficients...\n",
      "\n",
      "Finished 350/33538 genes. Approximate finish time: 2020-05-06 04:02:44\n",
      "\n",
      "Predicting remaining genes...\n",
      "\n",
      "Finished 6060/33538 genes. Approximate finish time: 2020-05-06 04:24:09\n",
      "\n",
      "Predicting remaining genes...\n",
      "\n",
      "Finished 23190/33538 genes. Approximate finish time: 2020-05-06 04:20:17\n",
      "\n",
      "Estimating remaining 10348 genes.\n",
      "\n",
      "Done!\n",
      "\n",
      "Finish time: 2020-05-06 04:21:14\n",
      "\n",
      "Total time: 31.66422 mins\n",
      "\n"
     ]
    },
    {
     "name": "stdout",
     "output_type": "stream",
     "text": [
      "[1] \"2: CL10D4 is running finish\"\n"
     ]
    },
    {
     "name": "stderr",
     "output_type": "stream",
     "text": [
      "33538 genes, 2996 cells\n",
      "\n",
      "Running SAVER with 64 worker(s)\n",
      "\n",
      "Calculating predictions for 22491 genes using 10803 genes and 2996 cells...\n",
      "\n",
      "Start time: 2020-05-06 04:25:00\n",
      "\n",
      "Estimating finish time...\n",
      "\n",
      "Finished 64/33538 genes. Approximate finish time: 2020-05-06 04:28:24\n",
      "\n",
      "Calculating max cor cutoff...\n",
      "\n",
      "Finished 100/33538 genes. Approximate finish time: 2020-05-06 04:33:47\n",
      "\n",
      "Calculating lambda coefficients...\n",
      "\n",
      "Finished 297/33538 genes. Approximate finish time: 2020-05-06 04:37:57\n",
      "\n",
      "Predicting remaining genes...\n",
      "\n",
      "Finished 5846/33538 genes. Approximate finish time: 2020-05-06 04:56:17\n",
      "\n",
      "Predicting remaining genes...\n",
      "\n",
      "Finished 22491/33538 genes. Approximate finish time: 2020-05-06 04:54:19\n",
      "\n",
      "Estimating remaining 11047 genes.\n",
      "\n",
      "Done!\n",
      "\n",
      "Finish time: 2020-05-06 04:55:08\n",
      "\n",
      "Total time: 30.14256 mins\n",
      "\n"
     ]
    },
    {
     "name": "stdout",
     "output_type": "stream",
     "text": [
      "[1] \"3: CL10D7 is running finish\"\n"
     ]
    },
    {
     "name": "stderr",
     "output_type": "stream",
     "text": [
      "33538 genes, 3316 cells\n",
      "\n",
      "Running SAVER with 64 worker(s)\n",
      "\n",
      "Calculating predictions for 21667 genes using 10750 genes and 3316 cells...\n",
      "\n",
      "Start time: 2020-05-06 04:58:40\n",
      "\n",
      "Estimating finish time...\n",
      "\n",
      "Finished 64/33538 genes. Approximate finish time: 2020-05-06 05:02:32\n",
      "\n",
      "Calculating max cor cutoff...\n",
      "\n",
      "Finished 100/33538 genes. Approximate finish time: 2020-05-06 05:07:45\n",
      "\n",
      "Calculating lambda coefficients...\n",
      "\n",
      "Finished 386/33538 genes. Approximate finish time: 2020-05-06 05:12:16\n",
      "\n",
      "Predicting remaining genes...\n",
      "\n",
      "Finished 5707/33538 genes. Approximate finish time: 2020-05-06 05:43:12\n",
      "\n",
      "Predicting remaining genes...\n",
      "\n",
      "Finished 21667/33538 genes. Approximate finish time: 2020-05-06 05:29:37\n",
      "\n",
      "Estimating remaining 11871 genes.\n",
      "\n",
      "Done!\n",
      "\n",
      "Finish time: 2020-05-06 05:30:32\n",
      "\n",
      "Total time: 31.87187 mins\n",
      "\n"
     ]
    },
    {
     "name": "stdout",
     "output_type": "stream",
     "text": [
      "[1] \"4: CL10P4 is running finish\"\n"
     ]
    },
    {
     "name": "stderr",
     "output_type": "stream",
     "text": [
      "33538 genes, 5097 cells\n",
      "\n",
      "Running SAVER with 64 worker(s)\n",
      "\n",
      "Calculating predictions for 22508 genes using 9831 genes and 5097 cells...\n",
      "\n",
      "Start time: 2020-05-06 05:34:31\n",
      "\n",
      "Estimating finish time...\n",
      "\n",
      "Finished 64/33538 genes. Approximate finish time: 2020-05-06 05:38:56\n",
      "\n",
      "Calculating max cor cutoff...\n",
      "\n",
      "Finished 100/33538 genes. Approximate finish time: 2020-05-06 05:44:10\n",
      "\n",
      "Calculating lambda coefficients...\n",
      "\n",
      "Finished 300/33538 genes. Approximate finish time: 2020-05-06 05:50:06\n",
      "\n",
      "Predicting remaining genes...\n",
      "\n",
      "Finished 5852/33538 genes. Approximate finish time: 2020-05-06 06:26:06\n",
      "\n",
      "Predicting remaining genes...\n",
      "\n",
      "Finished 22508/33538 genes. Approximate finish time: 2020-05-06 06:20:49\n",
      "\n",
      "Estimating remaining 11030 genes.\n",
      "\n",
      "Done!\n",
      "\n",
      "Finish time: 2020-05-06 06:21:57\n",
      "\n",
      "Total time: 47.43497 mins\n",
      "\n"
     ]
    },
    {
     "name": "stdout",
     "output_type": "stream",
     "text": [
      "[1] \"5: CL15D14 is running finish\"\n"
     ]
    },
    {
     "name": "stderr",
     "output_type": "stream",
     "text": [
      "33538 genes, 3795 cells\n",
      "\n",
      "Running SAVER with 64 worker(s)\n",
      "\n",
      "Calculating predictions for 23077 genes using 10574 genes and 3795 cells...\n",
      "\n",
      "Start time: 2020-05-06 06:26:21\n",
      "\n",
      "Estimating finish time...\n",
      "\n",
      "Finished 64/33538 genes. Approximate finish time: 2020-05-06 06:30:02\n",
      "\n",
      "Calculating max cor cutoff...\n",
      "\n",
      "Finished 100/33538 genes. Approximate finish time: 2020-05-06 06:34:51\n",
      "\n",
      "Calculating lambda coefficients...\n",
      "\n",
      "Finished 344/33538 genes. Approximate finish time: 2020-05-06 06:39:27\n",
      "\n",
      "Predicting remaining genes...\n",
      "\n",
      "Finished 6028/33538 genes. Approximate finish time: 2020-05-06 07:05:09\n",
      "\n",
      "Predicting remaining genes...\n",
      "\n",
      "Finished 23077/33538 genes. Approximate finish time: 2020-05-06 07:00:32\n",
      "\n",
      "Estimating remaining 10461 genes.\n",
      "\n",
      "Done!\n",
      "\n",
      "Finish time: 2020-05-06 07:01:31\n",
      "\n",
      "Total time: 35.15079 mins\n",
      "\n"
     ]
    },
    {
     "name": "stdout",
     "output_type": "stream",
     "text": [
      "[1] \"6: CL15D4 is running finish\"\n"
     ]
    },
    {
     "name": "stderr",
     "output_type": "stream",
     "text": [
      "33538 genes, 3032 cells\n",
      "\n",
      "Running SAVER with 64 worker(s)\n",
      "\n",
      "Calculating predictions for 22818 genes using 10543 genes and 3032 cells...\n",
      "\n",
      "Start time: 2020-05-06 07:05:35\n",
      "\n",
      "Estimating finish time...\n",
      "\n",
      "Finished 64/33538 genes. Approximate finish time: 2020-05-06 07:08:53\n",
      "\n",
      "Calculating max cor cutoff...\n",
      "\n",
      "Finished 100/33538 genes. Approximate finish time: 2020-05-06 07:13:19\n",
      "\n",
      "Calculating lambda coefficients...\n",
      "\n",
      "Finished 371/33538 genes. Approximate finish time: 2020-05-06 07:17:09\n",
      "\n",
      "Predicting remaining genes...\n",
      "\n",
      "Finished 5983/33538 genes. Approximate finish time: 2020-05-06 07:31:51\n",
      "\n",
      "Predicting remaining genes...\n",
      "\n",
      "Finished 22818/33538 genes. Approximate finish time: 2020-05-06 07:29:33\n",
      "\n",
      "Estimating remaining 10720 genes.\n",
      "\n",
      "Done!\n",
      "\n",
      "Finish time: 2020-05-06 07:30:24\n",
      "\n",
      "Total time: 24.80897 mins\n",
      "\n"
     ]
    },
    {
     "name": "stdout",
     "output_type": "stream",
     "text": [
      "[1] \"7: CL15D7 is running finish\"\n"
     ]
    },
    {
     "name": "stderr",
     "output_type": "stream",
     "text": [
      "33538 genes, 4382 cells\n",
      "\n",
      "Running SAVER with 64 worker(s)\n",
      "\n",
      "Calculating predictions for 20873 genes using 9893 genes and 4382 cells...\n",
      "\n",
      "Start time: 2020-05-06 07:34:16\n",
      "\n",
      "Estimating finish time...\n",
      "\n",
      "Finished 64/33538 genes. Approximate finish time: 2020-05-06 07:38:07\n",
      "\n",
      "Calculating max cor cutoff...\n",
      "\n",
      "Finished 100/33538 genes. Approximate finish time: 2020-05-06 07:43:21\n",
      "\n",
      "Calculating lambda coefficients...\n",
      "\n",
      "Finished 309/33538 genes. Approximate finish time: 2020-05-06 07:48:36\n",
      "\n",
      "Predicting remaining genes...\n",
      "\n",
      "Finished 5450/33538 genes. Approximate finish time: 2020-05-06 08:16:16\n",
      "\n",
      "Predicting remaining genes...\n",
      "\n",
      "Finished 20873/33538 genes. Approximate finish time: 2020-05-06 08:09:04\n",
      "\n",
      "Estimating remaining 12665 genes.\n",
      "\n",
      "Done!\n",
      "\n",
      "Finish time: 2020-05-06 08:10:04\n",
      "\n",
      "Total time: 35.79693 mins\n",
      "\n"
     ]
    },
    {
     "name": "stdout",
     "output_type": "stream",
     "text": [
      "[1] \"8: CL15P4 is running finish\"\n"
     ]
    },
    {
     "name": "stderr",
     "output_type": "stream",
     "text": [
      "33538 genes, 2373 cells\n",
      "\n",
      "Running SAVER with 64 worker(s)\n",
      "\n",
      "Calculating predictions for 22371 genes using 10613 genes and 2373 cells...\n",
      "\n",
      "Start time: 2020-05-06 08:14:01\n",
      "\n",
      "Estimating finish time...\n",
      "\n",
      "Finished 64/33538 genes. Approximate finish time: 2020-05-06 08:17:06\n",
      "\n",
      "Calculating max cor cutoff...\n",
      "\n",
      "Finished 100/33538 genes. Approximate finish time: 2020-05-06 08:20:42\n",
      "\n",
      "Calculating lambda coefficients...\n",
      "\n",
      "Finished 378/33538 genes. Approximate finish time: 2020-05-06 08:25:22\n",
      "\n",
      "Predicting remaining genes...\n",
      "\n",
      "Finished 5877/33538 genes. Approximate finish time: 2020-05-06 08:38:41\n",
      "\n",
      "Predicting remaining genes...\n",
      "\n",
      "Finished 22371/33538 genes. Approximate finish time: 2020-05-06 08:37:21\n",
      "\n",
      "Estimating remaining 11167 genes.\n",
      "\n",
      "Done!\n",
      "\n",
      "Finish time: 2020-05-06 08:37:56\n",
      "\n",
      "Total time: 23.91386 mins\n",
      "\n"
     ]
    },
    {
     "name": "stdout",
     "output_type": "stream",
     "text": [
      "[1] \"9: CLS1D14 is running finish\"\n"
     ]
    },
    {
     "name": "stderr",
     "output_type": "stream",
     "text": [
      "33538 genes, 3165 cells\n",
      "\n",
      "Running SAVER with 64 worker(s)\n",
      "\n",
      "Calculating predictions for 22536 genes using 10199 genes and 3165 cells...\n",
      "\n",
      "Start time: 2020-05-06 08:41:13\n",
      "\n",
      "Estimating finish time...\n",
      "\n",
      "Finished 64/33538 genes. Approximate finish time: 2020-05-06 08:44:43\n",
      "\n",
      "Calculating max cor cutoff...\n",
      "\n",
      "Finished 100/33538 genes. Approximate finish time: 2020-05-06 08:49:12\n",
      "\n",
      "Calculating lambda coefficients...\n",
      "\n",
      "Finished 386/33538 genes. Approximate finish time: 2020-05-06 08:53:10\n",
      "\n",
      "Predicting remaining genes...\n",
      "\n",
      "Finished 5924/33538 genes. Approximate finish time: 2020-05-06 09:07:17\n",
      "\n",
      "Predicting remaining genes...\n",
      "\n",
      "Finished 22536/33538 genes. Approximate finish time: 2020-05-06 09:05:28\n",
      "\n",
      "Estimating remaining 11002 genes.\n",
      "\n",
      "Done!\n",
      "\n",
      "Finish time: 2020-05-06 09:06:19\n",
      "\n",
      "Total time: 25.10161 mins\n",
      "\n"
     ]
    },
    {
     "name": "stdout",
     "output_type": "stream",
     "text": [
      "[1] \"10: CLS1D4 is running finish\"\n"
     ]
    },
    {
     "name": "stderr",
     "output_type": "stream",
     "text": [
      "33538 genes, 3266 cells\n",
      "\n",
      "Running SAVER with 64 worker(s)\n",
      "\n",
      "Calculating predictions for 22432 genes using 9998 genes and 3266 cells...\n",
      "\n",
      "Start time: 2020-05-06 09:09:50\n",
      "\n",
      "Estimating finish time...\n",
      "\n",
      "Finished 64/33538 genes. Approximate finish time: 2020-05-06 09:13:21\n",
      "\n",
      "Calculating max cor cutoff...\n",
      "\n",
      "Finished 100/33538 genes. Approximate finish time: 2020-05-06 09:19:05\n",
      "\n",
      "Calculating lambda coefficients...\n",
      "\n",
      "Finished 318/33538 genes. Approximate finish time: 2020-05-06 09:23:18\n",
      "\n",
      "Predicting remaining genes...\n",
      "\n",
      "Finished 5847/33538 genes. Approximate finish time: 2020-05-06 09:37:29\n",
      "\n",
      "Predicting remaining genes...\n",
      "\n",
      "Finished 22432/33538 genes. Approximate finish time: 2020-05-06 09:36:08\n",
      "\n",
      "Estimating remaining 11106 genes.\n",
      "\n",
      "Done!\n",
      "\n",
      "Finish time: 2020-05-06 09:36:56\n",
      "\n",
      "Total time: 27.10085 mins\n",
      "\n"
     ]
    },
    {
     "name": "stdout",
     "output_type": "stream",
     "text": [
      "[1] \"11: CLS1D7 is running finish\"\n"
     ]
    },
    {
     "name": "stderr",
     "output_type": "stream",
     "text": [
      "33538 genes, 3074 cells\n",
      "\n",
      "Running SAVER with 64 worker(s)\n",
      "\n",
      "Calculating predictions for 20694 genes using 10099 genes and 3074 cells...\n",
      "\n",
      "Start time: 2020-05-06 09:40:27\n",
      "\n",
      "Estimating finish time...\n",
      "\n",
      "Finished 64/33538 genes. Approximate finish time: 2020-05-06 09:43:51\n",
      "\n",
      "Calculating max cor cutoff...\n",
      "\n",
      "Finished 100/33538 genes. Approximate finish time: 2020-05-06 09:48:04\n",
      "\n",
      "Calculating lambda coefficients...\n",
      "\n",
      "Finished 386/33538 genes. Approximate finish time: 2020-05-06 09:52:22\n",
      "\n",
      "Predicting remaining genes...\n",
      "\n",
      "Finished 5463/33538 genes. Approximate finish time: 2020-05-06 10:06:50\n",
      "\n",
      "Predicting remaining genes...\n",
      "\n",
      "Finished 20694/33538 genes. Approximate finish time: 2020-05-06 10:03:52\n",
      "\n",
      "Estimating remaining 12844 genes.\n",
      "\n",
      "Done!\n",
      "\n",
      "Finish time: 2020-05-06 10:04:37\n",
      "\n",
      "Total time: 24.17085 mins\n",
      "\n"
     ]
    },
    {
     "name": "stdout",
     "output_type": "stream",
     "text": [
      "[1] \"12: CLS1P4 is running finish\"\n"
     ]
    }
   ],
   "source": [
    "nameindex <- 1\n",
    "for (scdata in sc.list){\n",
    "    scdata.count <- scdata@assays$RNA@counts\n",
    "    saverdata <- saver(scdata.count, ncores = 64)\n",
    "    outputpath <- paste0('/mnt/isilonX200/scRNA/Project_1/saver/', names(sc.list[nameindex]),'.saver.Rds')\n",
    "    saveRDS(object = saverdata, file = outputpath)\n",
    "    print(paste0(nameindex,\": \",names(sc.list[nameindex]),\" is running finish\"))\n",
    "    nameindex <- nameindex+1\n",
    "}"
   ]
  },
  {
   "cell_type": "markdown",
   "metadata": {},
   "source": [
    "## Project 2"
   ]
  },
  {
   "cell_type": "code",
   "execution_count": 15,
   "metadata": {},
   "outputs": [
    {
     "data": {
      "text/html": [
       "<style>\n",
       ".list-inline {list-style: none; margin:0; padding: 0}\n",
       ".list-inline>li {display: inline-block}\n",
       ".list-inline>li:not(:last-child)::after {content: \"\\00b7\"; padding: 0 .5ex}\n",
       "</style>\n",
       "<ol class=list-inline><li>'cls1a.qc.Rds'</li><li>'cls1c.qc.Rds'</li><li>'cls1h.qc.Rds'</li><li>'cls1p.qc.Rds'</li><li>'h1975a.qc.Rds'</li><li>'h1975c.qc.Rds'</li><li>'h1975h.qc.Rds'</li><li>'h1975p.qc.Rds'</li></ol>\n"
      ],
      "text/latex": [
       "\\begin{enumerate*}\n",
       "\\item 'cls1a.qc.Rds'\n",
       "\\item 'cls1c.qc.Rds'\n",
       "\\item 'cls1h.qc.Rds'\n",
       "\\item 'cls1p.qc.Rds'\n",
       "\\item 'h1975a.qc.Rds'\n",
       "\\item 'h1975c.qc.Rds'\n",
       "\\item 'h1975h.qc.Rds'\n",
       "\\item 'h1975p.qc.Rds'\n",
       "\\end{enumerate*}\n"
      ],
      "text/markdown": [
       "1. 'cls1a.qc.Rds'\n",
       "2. 'cls1c.qc.Rds'\n",
       "3. 'cls1h.qc.Rds'\n",
       "4. 'cls1p.qc.Rds'\n",
       "5. 'h1975a.qc.Rds'\n",
       "6. 'h1975c.qc.Rds'\n",
       "7. 'h1975h.qc.Rds'\n",
       "8. 'h1975p.qc.Rds'\n",
       "\n",
       "\n"
      ],
      "text/plain": [
       "[1] \"cls1a.qc.Rds\"  \"cls1c.qc.Rds\"  \"cls1h.qc.Rds\"  \"cls1p.qc.Rds\" \n",
       "[5] \"h1975a.qc.Rds\" \"h1975c.qc.Rds\" \"h1975h.qc.Rds\" \"h1975p.qc.Rds\""
      ]
     },
     "metadata": {},
     "output_type": "display_data"
    }
   ],
   "source": [
    "datalist <- list.files('/mnt/isilonX200/scRNA/Project_2/hho/Rdata', '.qc.Rds')\n",
    "datalist\n",
    "sc.list <- lapply(datalist, function(v){readRDS(paste0('/mnt/isilonX200/scRNA/Project_2/hho/Rdata/', v))})\n",
    "names(sc.list) <- toupper(sub('.qc.Rds', '', datalist))"
   ]
  },
  {
   "cell_type": "code",
   "execution_count": 16,
   "metadata": {
    "collapsed": true,
    "jupyter": {
     "outputs_hidden": true
    }
   },
   "outputs": [
    {
     "name": "stderr",
     "output_type": "stream",
     "text": [
      "33538 genes, 6909 cells\n",
      "\n",
      "Running SAVER with 64 worker(s)\n",
      "\n",
      "Calculating predictions for 20947 genes using 7490 genes and 6909 cells...\n",
      "\n",
      "Start time: 2020-05-06 10:24:41\n",
      "\n",
      "Estimating finish time...\n",
      "\n",
      "Finished 64/33538 genes. Approximate finish time: 2020-05-06 10:29:50\n",
      "\n",
      "Calculating max cor cutoff...\n",
      "\n",
      "Finished 100/33538 genes. Approximate finish time: 2020-05-06 10:33:46\n",
      "\n",
      "Calculating lambda coefficients...\n",
      "\n",
      "Finished 364/33538 genes. Approximate finish time: 2020-05-06 10:40:34\n",
      "\n",
      "Predicting remaining genes...\n",
      "\n",
      "Finished 5510/33538 genes. Approximate finish time: 2020-05-06 11:10:44\n",
      "\n",
      "Predicting remaining genes...\n",
      "\n",
      "Finished 20947/33538 genes. Approximate finish time: 2020-05-06 11:06:08\n",
      "\n",
      "Estimating remaining 12591 genes.\n",
      "\n",
      "Done!\n",
      "\n",
      "Finish time: 2020-05-06 11:07:26\n",
      "\n",
      "Total time: 42.7531 mins\n",
      "\n"
     ]
    },
    {
     "name": "stdout",
     "output_type": "stream",
     "text": [
      "[1] \"1: CLS1A is running finish\"\n"
     ]
    },
    {
     "name": "stderr",
     "output_type": "stream",
     "text": [
      "33538 genes, 11961 cells\n",
      "\n",
      "Running SAVER with 64 worker(s)\n",
      "\n",
      "Calculating predictions for 21262 genes using 6912 genes and 11961 cells...\n",
      "\n",
      "Start time: 2020-05-06 11:13:55\n",
      "\n",
      "Estimating finish time...\n",
      "\n",
      "Finished 64/33538 genes. Approximate finish time: 2020-05-06 11:22:16\n",
      "\n",
      "Calculating max cor cutoff...\n",
      "\n",
      "Finished 100/33538 genes. Approximate finish time: 2020-05-06 11:28:29\n",
      "\n",
      "Calculating lambda coefficients...\n",
      "\n",
      "Finished 323/33538 genes. Approximate finish time: 2020-05-06 11:36:53\n",
      "\n",
      "Predicting remaining genes...\n",
      "\n",
      "Finished 5558/33538 genes. Approximate finish time: 2020-05-06 12:48:20\n",
      "\n",
      "Predicting remaining genes...\n",
      "\n",
      "Finished 21262/33538 genes. Approximate finish time: 2020-05-06 12:40:21\n",
      "\n",
      "Estimating remaining 12276 genes.\n",
      "\n",
      "Done!\n",
      "\n",
      "Finish time: 2020-05-06 12:42:12\n",
      "\n",
      "Total time: 1.471414 hours\n",
      "\n"
     ]
    },
    {
     "name": "stdout",
     "output_type": "stream",
     "text": [
      "[1] \"2: CLS1C is running finish\"\n"
     ]
    },
    {
     "name": "stderr",
     "output_type": "stream",
     "text": [
      "33538 genes, 4161 cells\n",
      "\n",
      "Running SAVER with 64 worker(s)\n",
      "\n",
      "Calculating predictions for 21379 genes using 7935 genes and 4161 cells...\n",
      "\n",
      "Start time: 2020-05-06 12:50:17\n",
      "\n",
      "Estimating finish time...\n",
      "\n",
      "Finished 64/33538 genes. Approximate finish time: 2020-05-06 12:54:05\n",
      "\n",
      "Calculating max cor cutoff...\n",
      "\n",
      "Finished 100/33538 genes. Approximate finish time: 2020-05-06 12:59:47\n",
      "\n",
      "Calculating lambda coefficients...\n",
      "\n",
      "Finished 328/33538 genes. Approximate finish time: 2020-05-06 13:04:35\n",
      "\n",
      "Predicting remaining genes...\n",
      "\n",
      "Finished 5591/33538 genes. Approximate finish time: 2020-05-06 13:22:29\n",
      "\n",
      "Predicting remaining genes...\n",
      "\n",
      "Finished 21379/33538 genes. Approximate finish time: 2020-05-06 13:19:30\n",
      "\n",
      "Estimating remaining 12159 genes.\n",
      "\n",
      "Done!\n",
      "\n",
      "Finish time: 2020-05-06 13:20:17\n",
      "\n",
      "Total time: 29.98861 mins\n",
      "\n"
     ]
    },
    {
     "name": "stdout",
     "output_type": "stream",
     "text": [
      "[1] \"3: CLS1H is running finish\"\n"
     ]
    },
    {
     "name": "stderr",
     "output_type": "stream",
     "text": [
      "33538 genes, 3675 cells\n",
      "\n",
      "Running SAVER with 64 worker(s)\n",
      "\n",
      "Calculating predictions for 20639 genes using 9594 genes and 3675 cells...\n",
      "\n",
      "Start time: 2020-05-06 13:24:45\n",
      "\n",
      "Estimating finish time...\n",
      "\n",
      "Finished 64/33538 genes. Approximate finish time: 2020-05-06 13:29:05\n",
      "\n",
      "Calculating max cor cutoff...\n",
      "\n",
      "Finished 100/33538 genes. Approximate finish time: 2020-05-06 13:33:34\n",
      "\n",
      "Calculating lambda coefficients...\n",
      "\n",
      "Finished 378/33538 genes. Approximate finish time: 2020-05-06 13:38:44\n",
      "\n",
      "Predicting remaining genes...\n",
      "\n",
      "Finished 5444/33538 genes. Approximate finish time: 2020-05-06 13:52:57\n",
      "\n",
      "Predicting remaining genes...\n",
      "\n",
      "Finished 20639/33538 genes. Approximate finish time: 2020-05-06 13:49:54\n",
      "\n",
      "Estimating remaining 12899 genes.\n",
      "\n",
      "Done!\n",
      "\n",
      "Finish time: 2020-05-06 13:50:46\n",
      "\n",
      "Total time: 26.01777 mins\n",
      "\n"
     ]
    },
    {
     "name": "stdout",
     "output_type": "stream",
     "text": [
      "[1] \"4: CLS1P is running finish\"\n"
     ]
    },
    {
     "name": "stderr",
     "output_type": "stream",
     "text": [
      "33538 genes, 3004 cells\n",
      "\n",
      "Running SAVER with 64 worker(s)\n",
      "\n",
      "Calculating predictions for 21443 genes using 10822 genes and 3004 cells...\n",
      "\n",
      "Start time: 2020-05-06 13:54:58\n",
      "\n",
      "Estimating finish time...\n",
      "\n",
      "Finished 64/33538 genes. Approximate finish time: 2020-05-06 13:59:02\n",
      "\n",
      "Calculating max cor cutoff...\n",
      "\n",
      "Finished 100/33538 genes. Approximate finish time: 2020-05-06 14:05:24\n",
      "\n",
      "Calculating lambda coefficients...\n",
      "\n",
      "Finished 297/33538 genes. Approximate finish time: 2020-05-06 14:07:48\n",
      "\n",
      "Predicting remaining genes...\n",
      "\n",
      "Finished 5584/33538 genes. Approximate finish time: 2020-05-06 14:21:55\n",
      "\n",
      "Predicting remaining genes...\n",
      "\n",
      "Finished 21443/33538 genes. Approximate finish time: 2020-05-06 14:18:40\n",
      "\n",
      "Estimating remaining 12095 genes.\n",
      "\n",
      "Done!\n",
      "\n",
      "Finish time: 2020-05-06 14:19:25\n",
      "\n",
      "Total time: 24.45252 mins\n",
      "\n"
     ]
    },
    {
     "name": "stdout",
     "output_type": "stream",
     "text": [
      "[1] \"5: H1975A is running finish\"\n"
     ]
    },
    {
     "name": "stderr",
     "output_type": "stream",
     "text": [
      "33538 genes, 2279 cells\n",
      "\n",
      "Running SAVER with 64 worker(s)\n",
      "\n",
      "Calculating predictions for 21449 genes using 11434 genes and 2279 cells...\n",
      "\n",
      "Start time: 2020-05-06 14:23:38\n",
      "\n",
      "Estimating finish time...\n",
      "\n",
      "Finished 64/33538 genes. Approximate finish time: 2020-05-06 14:27:01\n",
      "\n",
      "Calculating max cor cutoff...\n",
      "\n",
      "Finished 100/33538 genes. Approximate finish time: 2020-05-06 14:32:42\n",
      "\n",
      "Calculating lambda coefficients...\n",
      "\n",
      "Finished 293/33538 genes. Approximate finish time: 2020-05-06 14:34:49\n",
      "\n",
      "Predicting remaining genes...\n",
      "\n",
      "Finished 5582/33538 genes. Approximate finish time: 2020-05-06 14:48:07\n",
      "\n",
      "Predicting remaining genes...\n",
      "\n",
      "Finished 21449/33538 genes. Approximate finish time: 2020-05-06 14:44:50\n",
      "\n",
      "Estimating remaining 12089 genes.\n",
      "\n",
      "Done!\n",
      "\n",
      "Finish time: 2020-05-06 14:45:31\n",
      "\n",
      "Total time: 21.89262 mins\n",
      "\n"
     ]
    },
    {
     "name": "stdout",
     "output_type": "stream",
     "text": [
      "[1] \"6: H1975C is running finish\"\n"
     ]
    },
    {
     "name": "stderr",
     "output_type": "stream",
     "text": [
      "33538 genes, 2050 cells\n",
      "\n",
      "Running SAVER with 64 worker(s)\n",
      "\n",
      "Calculating predictions for 20815 genes using 10740 genes and 2050 cells...\n",
      "\n",
      "Start time: 2020-05-06 14:49:01\n",
      "\n",
      "Estimating finish time...\n",
      "\n",
      "Finished 64/33538 genes. Approximate finish time: 2020-05-06 14:51:41\n",
      "\n",
      "Calculating max cor cutoff...\n",
      "\n",
      "Finished 100/33538 genes. Approximate finish time: 2020-05-06 14:55:14\n",
      "\n",
      "Calculating lambda coefficients...\n",
      "\n",
      "Finished 350/33538 genes. Approximate finish time: 2020-05-06 14:57:14\n",
      "\n",
      "Predicting remaining genes...\n",
      "\n",
      "Finished 5467/33538 genes. Approximate finish time: 2020-05-06 15:07:57\n",
      "\n",
      "Predicting remaining genes...\n",
      "\n",
      "Finished 20815/33538 genes. Approximate finish time: 2020-05-06 15:04:20\n",
      "\n",
      "Estimating remaining 12723 genes.\n",
      "\n",
      "Done!\n",
      "\n",
      "Finish time: 2020-05-06 15:04:56\n",
      "\n",
      "Total time: 15.91433 mins\n",
      "\n"
     ]
    },
    {
     "name": "stdout",
     "output_type": "stream",
     "text": [
      "[1] \"7: H1975H is running finish\"\n"
     ]
    },
    {
     "name": "stderr",
     "output_type": "stream",
     "text": [
      "33538 genes, 4850 cells\n",
      "\n",
      "Running SAVER with 64 worker(s)\n",
      "\n",
      "Calculating predictions for 21616 genes using 10469 genes and 4850 cells...\n",
      "\n",
      "Start time: 2020-05-06 15:08:02\n",
      "\n",
      "Estimating finish time...\n",
      "\n",
      "Finished 64/33538 genes. Approximate finish time: 2020-05-06 15:12:18\n",
      "\n",
      "Calculating max cor cutoff...\n",
      "\n",
      "Finished 100/33538 genes. Approximate finish time: 2020-05-06 15:18:54\n",
      "\n",
      "Calculating lambda coefficients...\n",
      "\n",
      "Finished 297/33538 genes. Approximate finish time: 2020-05-06 15:23:08\n",
      "\n",
      "Predicting remaining genes...\n",
      "\n",
      "Finished 5627/33538 genes. Approximate finish time: 2020-05-06 15:47:19\n",
      "\n",
      "Predicting remaining genes...\n",
      "\n",
      "Finished 21616/33538 genes. Approximate finish time: 2020-05-06 15:44:13\n",
      "\n",
      "Estimating remaining 11922 genes.\n",
      "\n",
      "Done!\n",
      "\n",
      "Finish time: 2020-05-06 15:45:18\n",
      "\n",
      "Total time: 37.26648 mins\n",
      "\n"
     ]
    },
    {
     "name": "stdout",
     "output_type": "stream",
     "text": [
      "[1] \"8: H1975P is running finish\"\n"
     ]
    }
   ],
   "source": [
    "nameindex <- 1\n",
    "for (scdata in sc.list){\n",
    "    scdata.count <- scdata@assays$RNA@counts\n",
    "    saverdata <- saver(scdata.count, ncores = 64)\n",
    "    outputpath <- paste0('/mnt/isilonX200/scRNA/Project_2/saver/', names(sc.list[nameindex]),'.saver.Rds')\n",
    "    saveRDS(object = saverdata, file = outputpath)\n",
    "    print(paste0(nameindex,\": \",names(sc.list[nameindex]),\" is running finish\"))\n",
    "    nameindex <- nameindex+1\n",
    "}"
   ]
  },
  {
   "cell_type": "markdown",
   "metadata": {},
   "source": [
    "## Project3"
   ]
  },
  {
   "cell_type": "code",
   "execution_count": 17,
   "metadata": {},
   "outputs": [
    {
     "data": {
      "text/html": [
       "<style>\n",
       ".list-inline {list-style: none; margin:0; padding: 0}\n",
       ".list-inline>li {display: inline-block}\n",
       ".list-inline>li:not(:last-child)::after {content: \"\\00b7\"; padding: 0 .5ex}\n",
       "</style>\n",
       "<ol class=list-inline><li>'s0127c.qc.Rds'</li><li>'s0127n.qc.Rds'</li><li>'s0818c.qc.Rds'</li><li>'s0818n.qc.Rds'</li><li>'s0826c.qc.Rds'</li><li>'s0826n.qc.Rds'</li></ol>\n"
      ],
      "text/latex": [
       "\\begin{enumerate*}\n",
       "\\item 's0127c.qc.Rds'\n",
       "\\item 's0127n.qc.Rds'\n",
       "\\item 's0818c.qc.Rds'\n",
       "\\item 's0818n.qc.Rds'\n",
       "\\item 's0826c.qc.Rds'\n",
       "\\item 's0826n.qc.Rds'\n",
       "\\end{enumerate*}\n"
      ],
      "text/markdown": [
       "1. 's0127c.qc.Rds'\n",
       "2. 's0127n.qc.Rds'\n",
       "3. 's0818c.qc.Rds'\n",
       "4. 's0818n.qc.Rds'\n",
       "5. 's0826c.qc.Rds'\n",
       "6. 's0826n.qc.Rds'\n",
       "\n",
       "\n"
      ],
      "text/plain": [
       "[1] \"s0127c.qc.Rds\" \"s0127n.qc.Rds\" \"s0818c.qc.Rds\" \"s0818n.qc.Rds\"\n",
       "[5] \"s0826c.qc.Rds\" \"s0826n.qc.Rds\""
      ]
     },
     "metadata": {},
     "output_type": "display_data"
    }
   ],
   "source": [
    "datalist <- list.files('/mnt/isilonX200/scRNA/Project_3/hho/Rdata', '.qc.Rds')\n",
    "datalist\n",
    "sc.list <- lapply(datalist, function(v){readRDS(paste0('/mnt/isilonX200/scRNA/Project_3/hho/Rdata/', v))})\n",
    "names(sc.list) <- toupper(sub('.qc.Rds', '', datalist))"
   ]
  },
  {
   "cell_type": "code",
   "execution_count": 19,
   "metadata": {
    "collapsed": true,
    "jupyter": {
     "outputs_hidden": true
    }
   },
   "outputs": [
    {
     "name": "stderr",
     "output_type": "stream",
     "text": [
      "33538 genes, 3097 cells\n",
      "\n",
      "Running SAVER with 64 worker(s)\n",
      "\n",
      "Calculating predictions for 20318 genes using 10218 genes and 3097 cells...\n",
      "\n",
      "Start time: 2020-05-07 08:02:40\n",
      "\n",
      "Estimating finish time...\n",
      "\n",
      "Finished 64/33538 genes. Approximate finish time: 2020-05-07 08:06:28\n",
      "\n",
      "Calculating max cor cutoff...\n",
      "\n",
      "Finished 100/33538 genes. Approximate finish time: 2020-05-07 08:12:21\n",
      "\n",
      "Calculating lambda coefficients...\n",
      "\n",
      "Finished 289/33538 genes. Approximate finish time: 2020-05-07 08:15:34\n",
      "\n",
      "Predicting remaining genes...\n",
      "\n",
      "Finished 5297/33538 genes. Approximate finish time: 2020-05-07 08:32:35\n",
      "\n",
      "Predicting remaining genes...\n",
      "\n",
      "Finished 20318/33538 genes. Approximate finish time: 2020-05-07 08:30:06\n",
      "\n",
      "Estimating remaining 13220 genes.\n",
      "\n",
      "Done!\n",
      "\n",
      "Finish time: 2020-05-07 08:30:52\n",
      "\n",
      "Total time: 28.19505 mins\n",
      "\n"
     ]
    },
    {
     "name": "stdout",
     "output_type": "stream",
     "text": [
      "[1] \"1: S0127C is running finish\"\n"
     ]
    },
    {
     "name": "stderr",
     "output_type": "stream",
     "text": [
      "33538 genes, 3225 cells\n",
      "\n",
      "Running SAVER with 64 worker(s)\n",
      "\n",
      "Calculating predictions for 20448 genes using 10130 genes and 3225 cells...\n",
      "\n",
      "Start time: 2020-05-07 08:34:33\n",
      "\n",
      "Estimating finish time...\n",
      "\n",
      "Finished 64/33538 genes. Approximate finish time: 2020-05-07 08:38:16\n",
      "\n",
      "Calculating max cor cutoff...\n",
      "\n",
      "Finished 100/33538 genes. Approximate finish time: 2020-05-07 08:45:29\n",
      "\n",
      "Calculating lambda coefficients...\n",
      "\n",
      "Finished 259/33538 genes. Approximate finish time: 2020-05-07 08:46:36\n",
      "\n",
      "Predicting remaining genes...\n",
      "\n",
      "Finished 5307/33538 genes. Approximate finish time: 2020-05-07 09:02:31\n",
      "\n",
      "Predicting remaining genes...\n",
      "\n",
      "Finished 20448/33538 genes. Approximate finish time: 2020-05-07 09:00:02\n",
      "\n",
      "Estimating remaining 13090 genes.\n",
      "\n",
      "Done!\n",
      "\n",
      "Finish time: 2020-05-07 09:00:49\n",
      "\n",
      "Total time: 26.26286 mins\n",
      "\n"
     ]
    },
    {
     "name": "stdout",
     "output_type": "stream",
     "text": [
      "[1] \"2: S0127N is running finish\"\n"
     ]
    },
    {
     "name": "stderr",
     "output_type": "stream",
     "text": [
      "33538 genes, 3452 cells\n",
      "\n",
      "Running SAVER with 64 worker(s)\n",
      "\n",
      "Calculating predictions for 20749 genes using 10261 genes and 3452 cells...\n",
      "\n",
      "Start time: 2020-05-07 09:04:50\n",
      "\n",
      "Estimating finish time...\n",
      "\n",
      "Finished 64/33538 genes. Approximate finish time: 2020-05-07 09:08:39\n",
      "\n",
      "Calculating max cor cutoff...\n",
      "\n",
      "Finished 100/33538 genes. Approximate finish time: 2020-05-07 09:15:08\n",
      "\n",
      "Calculating lambda coefficients...\n",
      "\n",
      "Finished 289/33538 genes. Approximate finish time: 2020-05-07 09:18:14\n",
      "\n",
      "Predicting remaining genes...\n",
      "\n",
      "Finished 5404/33538 genes. Approximate finish time: 2020-05-07 09:37:29\n",
      "\n",
      "Predicting remaining genes...\n",
      "\n",
      "Finished 20749/33538 genes. Approximate finish time: 2020-05-07 09:33:47\n",
      "\n",
      "Estimating remaining 12789 genes.\n",
      "\n",
      "Done!\n",
      "\n",
      "Finish time: 2020-05-07 09:34:37\n",
      "\n",
      "Total time: 29.77492 mins\n",
      "\n"
     ]
    },
    {
     "name": "stdout",
     "output_type": "stream",
     "text": [
      "[1] \"3: S0818C is running finish\"\n"
     ]
    },
    {
     "name": "stderr",
     "output_type": "stream",
     "text": [
      "33538 genes, 2991 cells\n",
      "\n",
      "Running SAVER with 64 worker(s)\n",
      "\n",
      "Calculating predictions for 20590 genes using 10216 genes and 2991 cells...\n",
      "\n",
      "Start time: 2020-05-07 09:38:45\n",
      "\n",
      "Estimating finish time...\n",
      "\n",
      "Finished 64/33538 genes. Approximate finish time: 2020-05-07 09:42:31\n",
      "\n",
      "Calculating max cor cutoff...\n",
      "\n",
      "Finished 100/33538 genes. Approximate finish time: 2020-05-07 09:48:28\n",
      "\n",
      "Calculating lambda coefficients...\n",
      "\n",
      "Finished 300/33538 genes. Approximate finish time: 2020-05-07 09:51:39\n",
      "\n",
      "Predicting remaining genes...\n",
      "\n",
      "Finished 5373/33538 genes. Approximate finish time: 2020-05-07 10:07:43\n",
      "\n",
      "Predicting remaining genes...\n",
      "\n",
      "Finished 20590/33538 genes. Approximate finish time: 2020-05-07 10:04:39\n",
      "\n",
      "Estimating remaining 12948 genes.\n",
      "\n",
      "Done!\n",
      "\n",
      "Finish time: 2020-05-07 10:05:25\n",
      "\n",
      "Total time: 26.66915 mins\n",
      "\n"
     ]
    },
    {
     "name": "stdout",
     "output_type": "stream",
     "text": [
      "[1] \"4: S0818N is running finish\"\n"
     ]
    },
    {
     "name": "stderr",
     "output_type": "stream",
     "text": [
      "33538 genes, 2823 cells\n",
      "\n",
      "Running SAVER with 64 worker(s)\n",
      "\n",
      "Calculating predictions for 21451 genes using 10140 genes and 2823 cells...\n",
      "\n",
      "Start time: 2020-05-07 10:08:39\n",
      "\n",
      "Estimating finish time...\n",
      "\n",
      "Finished 64/33538 genes. Approximate finish time: 2020-05-07 10:12:25\n",
      "\n",
      "Calculating max cor cutoff...\n",
      "\n",
      "Finished 100/33538 genes. Approximate finish time: 2020-05-07 10:18:05\n",
      "\n",
      "Calculating lambda coefficients...\n",
      "\n",
      "Finished 313/33538 genes. Approximate finish time: 2020-05-07 10:23:19\n",
      "\n",
      "Predicting remaining genes...\n",
      "\n",
      "Finished 5598/33538 genes. Approximate finish time: 2020-05-07 10:43:04\n",
      "\n",
      "Predicting remaining genes...\n",
      "\n",
      "Finished 21451/33538 genes. Approximate finish time: 2020-05-07 10:39:24\n",
      "\n",
      "Estimating remaining 12087 genes.\n",
      "\n",
      "Done!\n",
      "\n",
      "Finish time: 2020-05-07 10:40:09\n",
      "\n",
      "Total time: 31.48986 mins\n",
      "\n"
     ]
    },
    {
     "name": "stdout",
     "output_type": "stream",
     "text": [
      "[1] \"5: S0826C is running finish\"\n"
     ]
    },
    {
     "name": "stderr",
     "output_type": "stream",
     "text": [
      "33538 genes, 3532 cells\n",
      "\n",
      "Running SAVER with 64 worker(s)\n",
      "\n",
      "Calculating predictions for 20976 genes using 10331 genes and 3532 cells...\n",
      "\n",
      "Start time: 2020-05-07 10:43:42\n",
      "\n",
      "Estimating finish time...\n",
      "\n",
      "Finished 64/33538 genes. Approximate finish time: 2020-05-07 10:47:46\n",
      "\n",
      "Calculating max cor cutoff...\n",
      "\n",
      "Finished 100/33538 genes. Approximate finish time: 2020-05-07 10:54:28\n",
      "\n",
      "Calculating lambda coefficients...\n",
      "\n",
      "Finished 279/33538 genes. Approximate finish time: 2020-05-07 10:56:12\n",
      "\n",
      "Predicting remaining genes...\n",
      "\n",
      "Finished 5454/33538 genes. Approximate finish time: 2020-05-07 11:13:19\n",
      "\n",
      "Predicting remaining genes...\n",
      "\n",
      "Finished 20976/33538 genes. Approximate finish time: 2020-05-07 11:09:25\n",
      "\n",
      "Estimating remaining 12562 genes.\n",
      "\n",
      "Done!\n",
      "\n",
      "Finish time: 2020-05-07 11:10:18\n",
      "\n",
      "Total time: 26.60856 mins\n",
      "\n"
     ]
    },
    {
     "name": "stdout",
     "output_type": "stream",
     "text": [
      "[1] \"6: S0826N is running finish\"\n"
     ]
    }
   ],
   "source": [
    "nameindex <- 1\n",
    "for (scdata in sc.list){\n",
    "    scdata.count <- scdata@assays$RNA@counts\n",
    "    saverdata <- saver(scdata.count, ncores = 64)\n",
    "    outputpath <- paste0('/mnt/isilonX200/scRNA/Project_3/saver/', names(sc.list[nameindex]),'.saver.Rds')\n",
    "    saveRDS(object = saverdata, file = outputpath)\n",
    "    print(paste0(nameindex,\": \",names(sc.list[nameindex]),\" is running finish\"))\n",
    "    nameindex <- nameindex+1\n",
    "}"
   ]
  },
  {
   "cell_type": "markdown",
   "metadata": {},
   "source": [
    "## Project 4"
   ]
  },
  {
   "cell_type": "code",
   "execution_count": 2,
   "metadata": {},
   "outputs": [
    {
     "data": {
      "text/html": [
       "<style>\n",
       ".list-inline {list-style: none; margin:0; padding: 0}\n",
       ".list-inline>li {display: inline-block}\n",
       ".list-inline>li:not(:last-child)::after {content: \"\\00b7\"; padding: 0 .5ex}\n",
       "</style>\n",
       "<ol class=list-inline><li>'caf517.qc.Rds'</li><li>'cc2d.qc.Rds'</li><li>'cc3d.qc.Rds'</li><li>'cls1p.qc.Rds'</li><li>'mm.qc.Rds'</li><li>'pdx.qc.Rds'</li></ol>\n"
      ],
      "text/latex": [
       "\\begin{enumerate*}\n",
       "\\item 'caf517.qc.Rds'\n",
       "\\item 'cc2d.qc.Rds'\n",
       "\\item 'cc3d.qc.Rds'\n",
       "\\item 'cls1p.qc.Rds'\n",
       "\\item 'mm.qc.Rds'\n",
       "\\item 'pdx.qc.Rds'\n",
       "\\end{enumerate*}\n"
      ],
      "text/markdown": [
       "1. 'caf517.qc.Rds'\n",
       "2. 'cc2d.qc.Rds'\n",
       "3. 'cc3d.qc.Rds'\n",
       "4. 'cls1p.qc.Rds'\n",
       "5. 'mm.qc.Rds'\n",
       "6. 'pdx.qc.Rds'\n",
       "\n",
       "\n"
      ],
      "text/plain": [
       "[1] \"caf517.qc.Rds\" \"cc2d.qc.Rds\"   \"cc3d.qc.Rds\"   \"cls1p.qc.Rds\" \n",
       "[5] \"mm.qc.Rds\"     \"pdx.qc.Rds\"   "
      ]
     },
     "metadata": {},
     "output_type": "display_data"
    }
   ],
   "source": [
    "datalist <- list.files('/mnt/isilonX200/scRNA/Project_4/hho/Rdata', '.qc.Rds')\n",
    "datalist\n",
    "sc.list <- lapply(datalist, function(v){readRDS(paste0('/mnt/isilonX200/scRNA/Project_4/hho/Rdata/', v))})\n",
    "names(sc.list) <- toupper(sub('.qc.Rds', '', datalist))"
   ]
  },
  {
   "cell_type": "code",
   "execution_count": 10,
   "metadata": {},
   "outputs": [
    {
     "name": "stderr",
     "output_type": "stream",
     "text": [
      "33538 genes, 1875 cells\n",
      "\n",
      "Running SAVER with 64 worker(s)\n",
      "\n",
      "Calculating predictions for 19400 genes using 10124 genes and 1875 cells...\n",
      "\n",
      "Start time: 2020-05-05 11:24:38\n",
      "\n",
      "Estimating finish time...\n",
      "\n",
      "Finished 64/33538 genes. Approximate finish time: 2020-05-05 11:27:08\n",
      "\n",
      "Calculating max cor cutoff...\n",
      "\n",
      "Finished 100/33538 genes. Approximate finish time: 2020-05-05 11:31:10\n",
      "\n",
      "Calculating lambda coefficients...\n",
      "\n",
      "Finished 305/33538 genes. Approximate finish time: 2020-05-05 11:33:06\n",
      "\n",
      "Predicting remaining genes...\n",
      "\n",
      "Finished 5079/33538 genes. Approximate finish time: 2020-05-05 11:40:53\n",
      "\n",
      "Predicting remaining genes...\n",
      "\n",
      "Finished 19400/33538 genes. Approximate finish time: 2020-05-05 11:39:12\n",
      "\n",
      "Estimating remaining 14138 genes.\n",
      "\n",
      "Done!\n",
      "\n",
      "Finish time: 2020-05-05 11:39:41\n",
      "\n",
      "Total time: 15.0445 mins\n",
      "\n"
     ]
    },
    {
     "name": "stdout",
     "output_type": "stream",
     "text": [
      "[1] \"1: CAF517 is running finish\"\n"
     ]
    },
    {
     "name": "stderr",
     "output_type": "stream",
     "text": [
      "33538 genes, 2908 cells\n",
      "\n",
      "Running SAVER with 64 worker(s)\n",
      "\n",
      "Calculating predictions for 21123 genes using 10021 genes and 2908 cells...\n",
      "\n",
      "Start time: 2020-05-05 11:41:53\n",
      "\n",
      "Estimating finish time...\n",
      "\n",
      "Finished 64/33538 genes. Approximate finish time: 2020-05-05 11:45:33\n",
      "\n",
      "Calculating max cor cutoff...\n",
      "\n",
      "Finished 100/33538 genes. Approximate finish time: 2020-05-05 11:52:57\n",
      "\n",
      "Calculating lambda coefficients...\n",
      "\n",
      "Finished 276/33538 genes. Approximate finish time: 2020-05-05 11:55:27\n",
      "\n",
      "Predicting remaining genes...\n",
      "\n",
      "Finished 5488/33538 genes. Approximate finish time: 2020-05-05 12:08:34\n",
      "\n",
      "Predicting remaining genes...\n",
      "\n",
      "Finished 21123/33538 genes. Approximate finish time: 2020-05-05 12:05:52\n",
      "\n",
      "Estimating remaining 12415 genes.\n",
      "\n",
      "Done!\n",
      "\n",
      "Finish time: 2020-05-05 12:06:37\n",
      "\n",
      "Total time: 24.73792 mins\n",
      "\n"
     ]
    },
    {
     "name": "stdout",
     "output_type": "stream",
     "text": [
      "[1] \"2: CC2D is running finish\"\n"
     ]
    },
    {
     "name": "stderr",
     "output_type": "stream",
     "text": [
      "33538 genes, 4256 cells\n",
      "\n",
      "Running SAVER with 64 worker(s)\n",
      "\n",
      "Calculating predictions for 20846 genes using 9311 genes and 4256 cells...\n",
      "\n",
      "Start time: 2020-05-05 12:09:38\n",
      "\n",
      "Estimating finish time...\n",
      "\n",
      "Finished 64/33538 genes. Approximate finish time: 2020-05-05 12:13:08\n",
      "\n",
      "Calculating max cor cutoff...\n",
      "\n",
      "Finished 100/33538 genes. Approximate finish time: 2020-05-05 12:18:23\n",
      "\n",
      "Calculating lambda coefficients...\n",
      "\n",
      "Finished 313/33538 genes. Approximate finish time: 2020-05-05 12:26:11\n",
      "\n",
      "Predicting remaining genes...\n",
      "\n",
      "Finished 5447/33538 genes. Approximate finish time: 2020-05-05 12:47:19\n",
      "\n",
      "Predicting remaining genes...\n",
      "\n",
      "Finished 20846/33538 genes. Approximate finish time: 2020-05-05 12:43:47\n",
      "\n",
      "Estimating remaining 12692 genes.\n",
      "\n",
      "Done!\n",
      "\n",
      "Finish time: 2020-05-05 12:44:42\n",
      "\n",
      "Total time: 35.06808 mins\n",
      "\n"
     ]
    },
    {
     "name": "stdout",
     "output_type": "stream",
     "text": [
      "[1] \"3: CC3D is running finish\"\n"
     ]
    },
    {
     "name": "stderr",
     "output_type": "stream",
     "text": [
      "33538 genes, 3675 cells\n",
      "\n",
      "Running SAVER with 64 worker(s)\n",
      "\n",
      "Calculating predictions for 20639 genes using 9594 genes and 3675 cells...\n",
      "\n",
      "Start time: 2020-05-05 12:48:16\n",
      "\n",
      "Estimating finish time...\n",
      "\n",
      "Finished 64/33538 genes. Approximate finish time: 2020-05-05 12:52:01\n",
      "\n",
      "Calculating max cor cutoff...\n",
      "\n",
      "Finished 100/33538 genes. Approximate finish time: 2020-05-05 12:56:49\n",
      "\n",
      "Calculating lambda coefficients...\n",
      "\n",
      "Finished 386/33538 genes. Approximate finish time: 2020-05-05 13:01:23\n",
      "\n",
      "Predicting remaining genes...\n",
      "\n",
      "Finished 5450/33538 genes. Approximate finish time: 2020-05-05 13:14:12\n",
      "\n",
      "Predicting remaining genes...\n",
      "\n",
      "Finished 20639/33538 genes. Approximate finish time: 2020-05-05 13:12:47\n",
      "\n",
      "Estimating remaining 12899 genes.\n",
      "\n",
      "Done!\n",
      "\n",
      "Finish time: 2020-05-05 13:13:38\n",
      "\n",
      "Total time: 25.36833 mins\n",
      "\n"
     ]
    },
    {
     "name": "stdout",
     "output_type": "stream",
     "text": [
      "[1] \"4: CLS1P is running finish\"\n"
     ]
    },
    {
     "name": "stderr",
     "output_type": "stream",
     "text": [
      "31053 genes, 1933 cells\n",
      "\n",
      "Running SAVER with 64 worker(s)\n",
      "\n",
      "Calculating predictions for 11720 genes using 1880 genes and 1933 cells...\n",
      "\n",
      "Start time: 2020-05-05 13:16:17\n",
      "\n",
      "Estimating finish time...\n",
      "\n",
      "Finished 64/31053 genes. Approximate finish time: 2020-05-05 13:17:23\n",
      "\n",
      "Calculating max cor cutoff...\n",
      "\n",
      "Finished 100/31053 genes. Approximate finish time: 2020-05-05 13:17:53\n",
      "\n",
      "Calculating lambda coefficients...\n",
      "\n",
      "Finished 600/31053 genes. Approximate finish time: 2020-05-05 13:18:35\n",
      "\n",
      "Predicting remaining genes...\n",
      "\n",
      "Finished 3380/31053 genes. Approximate finish time: 2020-05-05 13:19:11\n",
      "\n",
      "Predicting remaining genes...\n",
      "\n",
      "Finished 11720/31053 genes. Approximate finish time: 2020-05-05 13:18:55\n",
      "\n",
      "Estimating remaining 19333 genes.\n",
      "\n",
      "Done!\n",
      "\n",
      "Finish time: 2020-05-05 13:18:55\n",
      "\n",
      "Total time: 2.636438 mins\n",
      "\n"
     ]
    },
    {
     "name": "stdout",
     "output_type": "stream",
     "text": [
      "[1] \"5: MM is running finish\"\n"
     ]
    },
    {
     "name": "stderr",
     "output_type": "stream",
     "text": [
      "33538 genes, 2412 cells\n",
      "\n",
      "Running SAVER with 64 worker(s)\n",
      "\n",
      "Calculating predictions for 19974 genes using 8469 genes and 2412 cells...\n",
      "\n",
      "Start time: 2020-05-05 13:20:54\n",
      "\n",
      "Estimating finish time...\n",
      "\n",
      "Finished 64/33538 genes. Approximate finish time: 2020-05-05 13:23:52\n",
      "\n",
      "Calculating max cor cutoff...\n",
      "\n",
      "Finished 100/33538 genes. Approximate finish time: 2020-05-05 13:27:24\n",
      "\n",
      "Calculating lambda coefficients...\n",
      "\n",
      "Finished 364/33538 genes. Approximate finish time: 2020-05-05 13:29:40\n",
      "\n",
      "Predicting remaining genes...\n",
      "\n",
      "Finished 5267/33538 genes. Approximate finish time: 2020-05-05 13:37:14\n",
      "\n",
      "Predicting remaining genes...\n",
      "\n",
      "Finished 19974/33538 genes. Approximate finish time: 2020-05-05 13:35:02\n",
      "\n",
      "Estimating remaining 13564 genes.\n",
      "\n",
      "Done!\n",
      "\n",
      "Finish time: 2020-05-05 13:35:37\n",
      "\n",
      "Total time: 14.70666 mins\n",
      "\n"
     ]
    },
    {
     "name": "stdout",
     "output_type": "stream",
     "text": [
      "[1] \"6: PDX is running finish\"\n"
     ]
    }
   ],
   "source": [
    "nameindex <- 1\n",
    "for (scdata in sc.list){\n",
    "    scdata.count <- scdata@assays$RNA@counts\n",
    "    saverdata <- saver(scdata.count, ncores = 64)\n",
    "    outputpath <- paste0('/mnt/isilonX200/scRNA/Project_4/saver/', names(sc.list[nameindex]),'.saver.Rds')\n",
    "    saveRDS(object = saverdata, file = outputpath)\n",
    "    print(paste0(nameindex,\": \",names(sc.list[nameindex]),\" is running finish\"))\n",
    "    nameindex <- nameindex+1\n",
    "}"
   ]
  },
  {
   "cell_type": "markdown",
   "metadata": {},
   "source": [
    "## Project 5"
   ]
  },
  {
   "cell_type": "code",
   "execution_count": 20,
   "metadata": {},
   "outputs": [
    {
     "data": {
      "text/html": [],
      "text/latex": [],
      "text/markdown": [],
      "text/plain": [
       "character(0)"
      ]
     },
     "metadata": {},
     "output_type": "display_data"
    }
   ],
   "source": [
    "datalist <- list.files('/mnt/isilonX200/scRNA/Project_5/hho/Rdata', '.qc.Rds')\n",
    "datalist\n",
    "sc.list <- lapply(datalist, function(v){readRDS(paste0('/mnt/isilonX200/scRNA/Project_5/hho/Rdata/', v))})\n",
    "names(sc.list) <- toupper(sub('.qc.Rds', '', datalist))"
   ]
  },
  {
   "cell_type": "code",
   "execution_count": null,
   "metadata": {},
   "outputs": [],
   "source": []
  }
 ],
 "metadata": {
  "kernelspec": {
   "display_name": "R",
   "language": "R",
   "name": "ir"
  },
  "language_info": {
   "codemirror_mode": "r",
   "file_extension": ".r",
   "mimetype": "text/x-r-source",
   "name": "R",
   "pygments_lexer": "r",
   "version": "3.6.0"
  }
 },
 "nbformat": 4,
 "nbformat_minor": 4
}
